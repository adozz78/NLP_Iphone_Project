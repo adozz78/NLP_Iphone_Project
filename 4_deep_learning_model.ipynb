{
 "cells": [
  {
   "cell_type": "markdown",
   "metadata": {},
   "source": [
    "# **Deep learning model**"
   ]
  },
  {
   "cell_type": "markdown",
   "metadata": {},
   "source": [
    "*The goal of this notebook is to implement deep learning model to improve our classification results.* "
   ]
  },
  {
   "cell_type": "markdown",
   "metadata": {},
   "source": [
    "Importing useful libraries"
   ]
  },
  {
   "cell_type": "code",
   "execution_count": 204,
   "metadata": {},
   "outputs": [],
   "source": [
    "# import the necessary libraries\n",
    "import numpy as np\n",
    "import pandas as pd\n",
    "import plotly.express as px\n",
    "\n",
    "import matplotlib as mpl\n",
    "import matplotlib.cm as cm\n",
    "import matplotlib.pyplot as plt\n",
    "\n",
    "from sklearn.model_selection import train_test_split\n",
    "from sklearn.preprocessing import LabelEncoder\n",
    "import tensorflow as tf\n",
    "from tensorflow.keras.models import Sequential\n",
    "from tensorflow.keras.layers import Embedding, SimpleRNN, Dense\n",
    "from sklearn.preprocessing import OneHotEncoder\n",
    "from tensorflow.keras.preprocessing.sequence import pad_sequences\n",
    "from keras.preprocessing.text import Tokenizer\n",
    "from tensorflow.keras.optimizers import Adam\n",
    "from tensorflow.keras.callbacks import EarlyStopping\n",
    "from sklearn.metrics import accuracy_score, classification_report, confusion_matrix, f1_score\n",
    "from imblearn.over_sampling import SMOTE\n",
    "\n",
    "import seaborn as sns\n",
    "import os\n",
    "\n",
    "from tensorflow import keras"
   ]
  },
  {
   "cell_type": "markdown",
   "metadata": {},
   "source": [
    "Useful function :"
   ]
  },
  {
   "cell_type": "code",
   "execution_count": 145,
   "metadata": {},
   "outputs": [],
   "source": [
    "def report(y_true, y_pred, class_labels):\n",
    "        print(classification_report(y_true, y_pred, labels=class_labels, zero_division=0))\n",
    "\n",
    "        confusion_matrix_kwargs = dict(\n",
    "            text_auto=True,\n",
    "            title=\"Confusion Matrix\",\n",
    "            width=1000,\n",
    "            height=800,\n",
    "            labels=dict(x=\"Predicted\", y=\"True Label\"),\n",
    "            x=class_labels,\n",
    "            y=class_labels,\n",
    "            color_continuous_scale='Blues'\n",
    "        )\n",
    "        \n",
    "        c_m = confusion_matrix(y_true, y_pred, labels=class_labels) \n",
    "        fig = px.imshow(c_m, **confusion_matrix_kwargs)\n",
    "        fig.show()"
   ]
  },
  {
   "cell_type": "code",
   "execution_count": 146,
   "metadata": {},
   "outputs": [],
   "source": [
    "# Load the preprocessed dataset \n",
    "df = pd.read_csv('data/APPLE_iPhone_SE_preprocessed.csv')\n",
    "df.dropna(subset=['Reviews'], inplace=True)"
   ]
  },
  {
   "cell_type": "markdown",
   "metadata": {},
   "source": [
    "Let's see which is the longest review in our dataset (useful for the next steps..)"
   ]
  },
  {
   "cell_type": "code",
   "execution_count": 147,
   "metadata": {},
   "outputs": [
    {
     "name": "stdout",
     "output_type": "stream",
     "text": [
      "the longest review contains 58 words.\n"
     ]
    }
   ],
   "source": [
    "#list of reviews length\n",
    "review_lengths = [len(review.split()) for review in df['Reviews']]\n",
    "\n",
    "# index of the longest review\n",
    "index_of_longest_review = review_lengths.index(max(review_lengths))\n",
    "\n",
    "# get the longest review\n",
    "longest_review = df['Reviews'][index_of_longest_review]\n",
    "\n",
    "# Number of words\n",
    "num_words_in_longest_review = len(longest_review.split())\n",
    "\n",
    "print(\"the longest review contains {} words.\".format(num_words_in_longest_review))"
   ]
  },
  {
   "cell_type": "markdown",
   "metadata": {},
   "source": [
    "# RNN implementation on the preprocessed dataset without classes redistribution and without oversampling"
   ]
  },
  {
   "cell_type": "markdown",
   "metadata": {},
   "source": [
    "In this part we are going to implement a simple sequential deep learning model. Indeed, we are going to train an RNN model with the following layers :\n",
    "\n",
    "- 1 embedding layer\n",
    "- 2 SimpleRNN layers with reLu activation functions\n",
    "- 1 output layer with a softmax activation function\n",
    "\n",
    "The model will use Adam for the optimization, a sparse_categorical_crossentropy loss function and will be train along 40 epochs."
   ]
  },
  {
   "cell_type": "code",
   "execution_count": 148,
   "metadata": {},
   "outputs": [],
   "source": [
    "# Tokenize the text data\n",
    "tokenizer = Tokenizer()\n",
    "tokenizer.fit_on_texts(df[\"Reviews\"])\n",
    "\n",
    "# Calculate max_words\n",
    "max_words = len(tokenizer.word_index) + 1  # Vocabulary size\n",
    "\n",
    "# Convert text data to sequences\n",
    "sequences = tokenizer.texts_to_sequences(df[\"Reviews\"])\n",
    "\n",
    "# Padding sequences \n",
    "max_sequence_length = 58\n",
    "X = pad_sequences(sequences, maxlen=max_sequence_length, padding='post', truncating='post')\n",
    "\n",
    "y = df[\"Ratings\"]\n",
    "\n",
    "# Split the data into training and testing sets\n",
    "X_train, X_test, y_train, y_test = train_test_split(X, y, test_size=0.2, random_state=42)"
   ]
  },
  {
   "cell_type": "markdown",
   "metadata": {},
   "source": [
    "Let's create our model :"
   ]
  },
  {
   "cell_type": "code",
   "execution_count": 149,
   "metadata": {},
   "outputs": [
    {
     "name": "stdout",
     "output_type": "stream",
     "text": [
      "Model: \"sequential_42\"\n",
      "_________________________________________________________________\n",
      " Layer (type)                Output Shape              Param #   \n",
      "=================================================================\n",
      " embedding (Embedding)       (None, 58, 128)           777472    \n",
      "                                                                 \n",
      " rnn1 (SimpleRNN)            (None, 58, 64)            12352     \n",
      "                                                                 \n",
      " rnn2 (SimpleRNN)            (None, 32)                3104      \n",
      "                                                                 \n",
      " output (Dense)              (None, 6)                 198       \n",
      "                                                                 \n",
      "=================================================================\n",
      "Total params: 793126 (3.03 MB)\n",
      "Trainable params: 793126 (3.03 MB)\n",
      "Non-trainable params: 0 (0.00 Byte)\n",
      "_________________________________________________________________\n"
     ]
    }
   ],
   "source": [
    "# Define the RNN model\n",
    "model = Sequential()\n",
    "\n",
    "# Embedding layer to convert text data to dense vectors\n",
    "model.add(Embedding(input_dim=max_words, output_dim=128, input_length=max_sequence_length, name='embedding'))\n",
    "\n",
    "# Two SimpleRNN layers with ReLU activation functions\n",
    "model.add(SimpleRNN(64, activation='relu', return_sequences=True, name='rnn1'))\n",
    "model.add(SimpleRNN(32, activation='relu', name='rnn2'))\n",
    "\n",
    "# Dense layer (output layer) with a softmax activation function for multi-class classification\n",
    "model.add(Dense(6, activation='softmax', name='output'))\n",
    "\n",
    "# Compile the model\n",
    "model.compile(optimizer=Adam(learning_rate=0.001),  loss='sparse_categorical_crossentropy', metrics=['accuracy'])\n",
    "\n",
    "# Display model summary\n",
    "model.summary()"
   ]
  },
  {
   "cell_type": "markdown",
   "metadata": {},
   "source": [
    "Let's train the model :"
   ]
  },
  {
   "cell_type": "code",
   "execution_count": 152,
   "metadata": {},
   "outputs": [
    {
     "name": "stdout",
     "output_type": "stream",
     "text": [
      "Epoch 1/40\n",
      "98/98 [==============================] - 5s 56ms/step - loss: 0.5131 - accuracy: 0.7959 - val_loss: 1.1113 - val_accuracy: 0.6188\n",
      "Epoch 2/40\n",
      "98/98 [==============================] - 6s 60ms/step - loss: 0.5265 - accuracy: 0.7967 - val_loss: 1.2849 - val_accuracy: 0.6581\n",
      "Epoch 3/40\n",
      "98/98 [==============================] - 7s 67ms/step - loss: 0.5007 - accuracy: 0.8034 - val_loss: 1.3123 - val_accuracy: 0.6626\n",
      "Epoch 4/40\n",
      "98/98 [==============================] - 6s 60ms/step - loss: 0.4919 - accuracy: 0.8057 - val_loss: 1.2719 - val_accuracy: 0.6555\n",
      "Epoch 5/40\n",
      "98/98 [==============================] - 6s 57ms/step - loss: 0.5065 - accuracy: 0.8015 - val_loss: 1.4116 - val_accuracy: 0.6626\n",
      "Epoch 6/40\n",
      "98/98 [==============================] - 6s 63ms/step - loss: 0.4832 - accuracy: 0.8052 - val_loss: 1.4784 - val_accuracy: 0.6607\n",
      "Epoch 7/40\n",
      "98/98 [==============================] - 6s 56ms/step - loss: 0.4747 - accuracy: 0.8099 - val_loss: 1.6397 - val_accuracy: 0.6671\n",
      "Epoch 8/40\n",
      "98/98 [==============================] - 6s 58ms/step - loss: 0.4659 - accuracy: 0.8097 - val_loss: 1.2535 - val_accuracy: 0.5840\n",
      "Epoch 9/40\n",
      "98/98 [==============================] - 6s 63ms/step - loss: 0.4560 - accuracy: 0.8247 - val_loss: 1.2520 - val_accuracy: 0.6561\n",
      "Epoch 10/40\n",
      "98/98 [==============================] - 6s 65ms/step - loss: 0.4562 - accuracy: 0.8323 - val_loss: 1.4713 - val_accuracy: 0.6735\n",
      "Epoch 11/40\n",
      "98/98 [==============================] - 6s 62ms/step - loss: 0.4444 - accuracy: 0.8400 - val_loss: 1.4338 - val_accuracy: 0.6703\n",
      "Epoch 12/40\n",
      "98/98 [==============================] - 6s 63ms/step - loss: 0.4349 - accuracy: 0.8426 - val_loss: 1.4309 - val_accuracy: 0.6529\n",
      "Epoch 13/40\n",
      "98/98 [==============================] - 6s 64ms/step - loss: 0.4200 - accuracy: 0.8463 - val_loss: 1.7517 - val_accuracy: 0.6613\n",
      "Epoch 14/40\n",
      "98/98 [==============================] - 6s 59ms/step - loss: 0.4158 - accuracy: 0.8516 - val_loss: 1.6024 - val_accuracy: 0.6761\n",
      "Epoch 15/40\n",
      "98/98 [==============================] - 6s 59ms/step - loss: 0.3995 - accuracy: 0.8571 - val_loss: 1.3699 - val_accuracy: 0.6465\n",
      "Epoch 16/40\n",
      "98/98 [==============================] - 6s 59ms/step - loss: 0.3890 - accuracy: 0.8564 - val_loss: 1.5643 - val_accuracy: 0.6742\n",
      "Epoch 17/40\n",
      "98/98 [==============================] - 6s 58ms/step - loss: 0.3774 - accuracy: 0.8628 - val_loss: 1.6133 - val_accuracy: 0.6652\n",
      "Epoch 18/40\n",
      "98/98 [==============================] - 6s 58ms/step - loss: 0.3680 - accuracy: 0.8654 - val_loss: 1.5449 - val_accuracy: 0.6536\n",
      "Epoch 19/40\n",
      "98/98 [==============================] - 6s 59ms/step - loss: 0.4033 - accuracy: 0.8554 - val_loss: 1.5247 - val_accuracy: 0.6594\n",
      "Epoch 20/40\n",
      "98/98 [==============================] - 6s 58ms/step - loss: 0.3760 - accuracy: 0.8645 - val_loss: 1.3933 - val_accuracy: 0.6426\n",
      "Epoch 21/40\n",
      "98/98 [==============================] - 6s 62ms/step - loss: 0.3705 - accuracy: 0.8659 - val_loss: 1.6019 - val_accuracy: 0.6658\n",
      "Epoch 22/40\n",
      "98/98 [==============================] - 6s 61ms/step - loss: 0.3721 - accuracy: 0.8657 - val_loss: 1.6248 - val_accuracy: 0.6729\n",
      "Epoch 23/40\n",
      "98/98 [==============================] - 6s 58ms/step - loss: 0.3709 - accuracy: 0.8701 - val_loss: 1.5267 - val_accuracy: 0.6613\n",
      "Epoch 24/40\n",
      "98/98 [==============================] - 6s 59ms/step - loss: 0.3620 - accuracy: 0.8712 - val_loss: 1.6210 - val_accuracy: 0.6677\n",
      "Epoch 25/40\n",
      "98/98 [==============================] - 6s 59ms/step - loss: 0.3587 - accuracy: 0.8735 - val_loss: 1.7544 - val_accuracy: 0.6626\n",
      "Epoch 26/40\n",
      "98/98 [==============================] - 6s 59ms/step - loss: 0.3506 - accuracy: 0.8765 - val_loss: 1.6491 - val_accuracy: 0.6677\n",
      "Epoch 27/40\n",
      "98/98 [==============================] - 6s 62ms/step - loss: 0.3616 - accuracy: 0.8715 - val_loss: 1.6137 - val_accuracy: 0.6497\n",
      "Epoch 28/40\n",
      "98/98 [==============================] - 6s 60ms/step - loss: 0.3548 - accuracy: 0.8712 - val_loss: 1.8914 - val_accuracy: 0.6722\n",
      "Epoch 29/40\n",
      "98/98 [==============================] - 6s 61ms/step - loss: 0.3627 - accuracy: 0.8727 - val_loss: 1.7393 - val_accuracy: 0.6671\n",
      "Epoch 30/40\n",
      "98/98 [==============================] - 6s 59ms/step - loss: 0.3448 - accuracy: 0.8789 - val_loss: 1.4471 - val_accuracy: 0.6021\n",
      "Epoch 31/40\n",
      "98/98 [==============================] - 6s 61ms/step - loss: 0.3417 - accuracy: 0.8802 - val_loss: 1.6527 - val_accuracy: 0.6471\n",
      "Epoch 32/40\n",
      "98/98 [==============================] - 6s 62ms/step - loss: 0.3619 - accuracy: 0.8672 - val_loss: 1.7422 - val_accuracy: 0.6446\n",
      "Epoch 33/40\n",
      "98/98 [==============================] - 6s 60ms/step - loss: 0.3429 - accuracy: 0.8825 - val_loss: 1.4904 - val_accuracy: 0.6491\n",
      "Epoch 34/40\n",
      "98/98 [==============================] - 6s 61ms/step - loss: 0.3357 - accuracy: 0.8820 - val_loss: 1.7806 - val_accuracy: 0.6529\n",
      "Epoch 35/40\n",
      "98/98 [==============================] - 6s 59ms/step - loss: 0.3282 - accuracy: 0.8868 - val_loss: 1.5071 - val_accuracy: 0.6594\n",
      "Epoch 36/40\n",
      "98/98 [==============================] - 6s 61ms/step - loss: 0.3333 - accuracy: 0.8806 - val_loss: 1.4589 - val_accuracy: 0.6252\n",
      "Epoch 37/40\n",
      "98/98 [==============================] - 6s 61ms/step - loss: 0.3287 - accuracy: 0.8884 - val_loss: 1.7481 - val_accuracy: 0.6497\n",
      "Epoch 38/40\n",
      "98/98 [==============================] - 6s 59ms/step - loss: 0.3033 - accuracy: 0.8965 - val_loss: 1.7339 - val_accuracy: 0.6536\n",
      "Epoch 39/40\n",
      "98/98 [==============================] - 6s 60ms/step - loss: 0.3093 - accuracy: 0.8904 - val_loss: 1.7086 - val_accuracy: 0.6458\n",
      "Epoch 40/40\n",
      "98/98 [==============================] - 6s 62ms/step - loss: 0.3143 - accuracy: 0.8909 - val_loss: 1.6822 - val_accuracy: 0.5963\n",
      "61/61 [==============================] - 1s 12ms/step\n",
      "              precision    recall  f1-score   support\n",
      "\n",
      "           1       0.32      0.58      0.41        88\n",
      "           2       0.00      0.00      0.00        44\n",
      "           3       0.07      0.16      0.10        80\n",
      "           4       0.25      0.24      0.24       363\n",
      "           5       0.81      0.74      0.78      1367\n",
      "\n",
      "    accuracy                           0.60      1942\n",
      "   macro avg       0.29      0.35      0.31      1942\n",
      "weighted avg       0.64      0.60      0.62      1942\n",
      "\n"
     ]
    },
    {
     "data": {
      "application/vnd.plotly.v1+json": {
       "config": {
        "plotlyServerURL": "https://plot.ly"
       },
       "data": [
        {
         "coloraxis": "coloraxis",
         "hovertemplate": "Predicted: %{x}<br>True Label: %{y}<br>color: %{z}<extra></extra>",
         "name": "0",
         "texttemplate": "%{z}",
         "type": "heatmap",
         "x": [
          1,
          2,
          3,
          4,
          5
         ],
         "xaxis": "x",
         "y": [
          1,
          2,
          3,
          4,
          5
         ],
         "yaxis": "y",
         "z": [
          [
           51,
           0,
           16,
           12,
           9
          ],
          [
           20,
           0,
           11,
           7,
           6
          ],
          [
           25,
           0,
           13,
           20,
           22
          ],
          [
           28,
           0,
           51,
           87,
           197
          ],
          [
           35,
           0,
           87,
           228,
           1017
          ]
         ]
        }
       ],
       "layout": {
        "coloraxis": {
         "colorscale": [
          [
           0,
           "rgb(247,251,255)"
          ],
          [
           0.125,
           "rgb(222,235,247)"
          ],
          [
           0.25,
           "rgb(198,219,239)"
          ],
          [
           0.375,
           "rgb(158,202,225)"
          ],
          [
           0.5,
           "rgb(107,174,214)"
          ],
          [
           0.625,
           "rgb(66,146,198)"
          ],
          [
           0.75,
           "rgb(33,113,181)"
          ],
          [
           0.875,
           "rgb(8,81,156)"
          ],
          [
           1,
           "rgb(8,48,107)"
          ]
         ]
        },
        "height": 800,
        "template": {
         "data": {
          "bar": [
           {
            "error_x": {
             "color": "#2a3f5f"
            },
            "error_y": {
             "color": "#2a3f5f"
            },
            "marker": {
             "line": {
              "color": "#E5ECF6",
              "width": 0.5
             },
             "pattern": {
              "fillmode": "overlay",
              "size": 10,
              "solidity": 0.2
             }
            },
            "type": "bar"
           }
          ],
          "barpolar": [
           {
            "marker": {
             "line": {
              "color": "#E5ECF6",
              "width": 0.5
             },
             "pattern": {
              "fillmode": "overlay",
              "size": 10,
              "solidity": 0.2
             }
            },
            "type": "barpolar"
           }
          ],
          "carpet": [
           {
            "aaxis": {
             "endlinecolor": "#2a3f5f",
             "gridcolor": "white",
             "linecolor": "white",
             "minorgridcolor": "white",
             "startlinecolor": "#2a3f5f"
            },
            "baxis": {
             "endlinecolor": "#2a3f5f",
             "gridcolor": "white",
             "linecolor": "white",
             "minorgridcolor": "white",
             "startlinecolor": "#2a3f5f"
            },
            "type": "carpet"
           }
          ],
          "choropleth": [
           {
            "colorbar": {
             "outlinewidth": 0,
             "ticks": ""
            },
            "type": "choropleth"
           }
          ],
          "contour": [
           {
            "colorbar": {
             "outlinewidth": 0,
             "ticks": ""
            },
            "colorscale": [
             [
              0,
              "#0d0887"
             ],
             [
              0.1111111111111111,
              "#46039f"
             ],
             [
              0.2222222222222222,
              "#7201a8"
             ],
             [
              0.3333333333333333,
              "#9c179e"
             ],
             [
              0.4444444444444444,
              "#bd3786"
             ],
             [
              0.5555555555555556,
              "#d8576b"
             ],
             [
              0.6666666666666666,
              "#ed7953"
             ],
             [
              0.7777777777777778,
              "#fb9f3a"
             ],
             [
              0.8888888888888888,
              "#fdca26"
             ],
             [
              1,
              "#f0f921"
             ]
            ],
            "type": "contour"
           }
          ],
          "contourcarpet": [
           {
            "colorbar": {
             "outlinewidth": 0,
             "ticks": ""
            },
            "type": "contourcarpet"
           }
          ],
          "heatmap": [
           {
            "colorbar": {
             "outlinewidth": 0,
             "ticks": ""
            },
            "colorscale": [
             [
              0,
              "#0d0887"
             ],
             [
              0.1111111111111111,
              "#46039f"
             ],
             [
              0.2222222222222222,
              "#7201a8"
             ],
             [
              0.3333333333333333,
              "#9c179e"
             ],
             [
              0.4444444444444444,
              "#bd3786"
             ],
             [
              0.5555555555555556,
              "#d8576b"
             ],
             [
              0.6666666666666666,
              "#ed7953"
             ],
             [
              0.7777777777777778,
              "#fb9f3a"
             ],
             [
              0.8888888888888888,
              "#fdca26"
             ],
             [
              1,
              "#f0f921"
             ]
            ],
            "type": "heatmap"
           }
          ],
          "heatmapgl": [
           {
            "colorbar": {
             "outlinewidth": 0,
             "ticks": ""
            },
            "colorscale": [
             [
              0,
              "#0d0887"
             ],
             [
              0.1111111111111111,
              "#46039f"
             ],
             [
              0.2222222222222222,
              "#7201a8"
             ],
             [
              0.3333333333333333,
              "#9c179e"
             ],
             [
              0.4444444444444444,
              "#bd3786"
             ],
             [
              0.5555555555555556,
              "#d8576b"
             ],
             [
              0.6666666666666666,
              "#ed7953"
             ],
             [
              0.7777777777777778,
              "#fb9f3a"
             ],
             [
              0.8888888888888888,
              "#fdca26"
             ],
             [
              1,
              "#f0f921"
             ]
            ],
            "type": "heatmapgl"
           }
          ],
          "histogram": [
           {
            "marker": {
             "pattern": {
              "fillmode": "overlay",
              "size": 10,
              "solidity": 0.2
             }
            },
            "type": "histogram"
           }
          ],
          "histogram2d": [
           {
            "colorbar": {
             "outlinewidth": 0,
             "ticks": ""
            },
            "colorscale": [
             [
              0,
              "#0d0887"
             ],
             [
              0.1111111111111111,
              "#46039f"
             ],
             [
              0.2222222222222222,
              "#7201a8"
             ],
             [
              0.3333333333333333,
              "#9c179e"
             ],
             [
              0.4444444444444444,
              "#bd3786"
             ],
             [
              0.5555555555555556,
              "#d8576b"
             ],
             [
              0.6666666666666666,
              "#ed7953"
             ],
             [
              0.7777777777777778,
              "#fb9f3a"
             ],
             [
              0.8888888888888888,
              "#fdca26"
             ],
             [
              1,
              "#f0f921"
             ]
            ],
            "type": "histogram2d"
           }
          ],
          "histogram2dcontour": [
           {
            "colorbar": {
             "outlinewidth": 0,
             "ticks": ""
            },
            "colorscale": [
             [
              0,
              "#0d0887"
             ],
             [
              0.1111111111111111,
              "#46039f"
             ],
             [
              0.2222222222222222,
              "#7201a8"
             ],
             [
              0.3333333333333333,
              "#9c179e"
             ],
             [
              0.4444444444444444,
              "#bd3786"
             ],
             [
              0.5555555555555556,
              "#d8576b"
             ],
             [
              0.6666666666666666,
              "#ed7953"
             ],
             [
              0.7777777777777778,
              "#fb9f3a"
             ],
             [
              0.8888888888888888,
              "#fdca26"
             ],
             [
              1,
              "#f0f921"
             ]
            ],
            "type": "histogram2dcontour"
           }
          ],
          "mesh3d": [
           {
            "colorbar": {
             "outlinewidth": 0,
             "ticks": ""
            },
            "type": "mesh3d"
           }
          ],
          "parcoords": [
           {
            "line": {
             "colorbar": {
              "outlinewidth": 0,
              "ticks": ""
             }
            },
            "type": "parcoords"
           }
          ],
          "pie": [
           {
            "automargin": true,
            "type": "pie"
           }
          ],
          "scatter": [
           {
            "fillpattern": {
             "fillmode": "overlay",
             "size": 10,
             "solidity": 0.2
            },
            "type": "scatter"
           }
          ],
          "scatter3d": [
           {
            "line": {
             "colorbar": {
              "outlinewidth": 0,
              "ticks": ""
             }
            },
            "marker": {
             "colorbar": {
              "outlinewidth": 0,
              "ticks": ""
             }
            },
            "type": "scatter3d"
           }
          ],
          "scattercarpet": [
           {
            "marker": {
             "colorbar": {
              "outlinewidth": 0,
              "ticks": ""
             }
            },
            "type": "scattercarpet"
           }
          ],
          "scattergeo": [
           {
            "marker": {
             "colorbar": {
              "outlinewidth": 0,
              "ticks": ""
             }
            },
            "type": "scattergeo"
           }
          ],
          "scattergl": [
           {
            "marker": {
             "colorbar": {
              "outlinewidth": 0,
              "ticks": ""
             }
            },
            "type": "scattergl"
           }
          ],
          "scattermapbox": [
           {
            "marker": {
             "colorbar": {
              "outlinewidth": 0,
              "ticks": ""
             }
            },
            "type": "scattermapbox"
           }
          ],
          "scatterpolar": [
           {
            "marker": {
             "colorbar": {
              "outlinewidth": 0,
              "ticks": ""
             }
            },
            "type": "scatterpolar"
           }
          ],
          "scatterpolargl": [
           {
            "marker": {
             "colorbar": {
              "outlinewidth": 0,
              "ticks": ""
             }
            },
            "type": "scatterpolargl"
           }
          ],
          "scatterternary": [
           {
            "marker": {
             "colorbar": {
              "outlinewidth": 0,
              "ticks": ""
             }
            },
            "type": "scatterternary"
           }
          ],
          "surface": [
           {
            "colorbar": {
             "outlinewidth": 0,
             "ticks": ""
            },
            "colorscale": [
             [
              0,
              "#0d0887"
             ],
             [
              0.1111111111111111,
              "#46039f"
             ],
             [
              0.2222222222222222,
              "#7201a8"
             ],
             [
              0.3333333333333333,
              "#9c179e"
             ],
             [
              0.4444444444444444,
              "#bd3786"
             ],
             [
              0.5555555555555556,
              "#d8576b"
             ],
             [
              0.6666666666666666,
              "#ed7953"
             ],
             [
              0.7777777777777778,
              "#fb9f3a"
             ],
             [
              0.8888888888888888,
              "#fdca26"
             ],
             [
              1,
              "#f0f921"
             ]
            ],
            "type": "surface"
           }
          ],
          "table": [
           {
            "cells": {
             "fill": {
              "color": "#EBF0F8"
             },
             "line": {
              "color": "white"
             }
            },
            "header": {
             "fill": {
              "color": "#C8D4E3"
             },
             "line": {
              "color": "white"
             }
            },
            "type": "table"
           }
          ]
         },
         "layout": {
          "annotationdefaults": {
           "arrowcolor": "#2a3f5f",
           "arrowhead": 0,
           "arrowwidth": 1
          },
          "autotypenumbers": "strict",
          "coloraxis": {
           "colorbar": {
            "outlinewidth": 0,
            "ticks": ""
           }
          },
          "colorscale": {
           "diverging": [
            [
             0,
             "#8e0152"
            ],
            [
             0.1,
             "#c51b7d"
            ],
            [
             0.2,
             "#de77ae"
            ],
            [
             0.3,
             "#f1b6da"
            ],
            [
             0.4,
             "#fde0ef"
            ],
            [
             0.5,
             "#f7f7f7"
            ],
            [
             0.6,
             "#e6f5d0"
            ],
            [
             0.7,
             "#b8e186"
            ],
            [
             0.8,
             "#7fbc41"
            ],
            [
             0.9,
             "#4d9221"
            ],
            [
             1,
             "#276419"
            ]
           ],
           "sequential": [
            [
             0,
             "#0d0887"
            ],
            [
             0.1111111111111111,
             "#46039f"
            ],
            [
             0.2222222222222222,
             "#7201a8"
            ],
            [
             0.3333333333333333,
             "#9c179e"
            ],
            [
             0.4444444444444444,
             "#bd3786"
            ],
            [
             0.5555555555555556,
             "#d8576b"
            ],
            [
             0.6666666666666666,
             "#ed7953"
            ],
            [
             0.7777777777777778,
             "#fb9f3a"
            ],
            [
             0.8888888888888888,
             "#fdca26"
            ],
            [
             1,
             "#f0f921"
            ]
           ],
           "sequentialminus": [
            [
             0,
             "#0d0887"
            ],
            [
             0.1111111111111111,
             "#46039f"
            ],
            [
             0.2222222222222222,
             "#7201a8"
            ],
            [
             0.3333333333333333,
             "#9c179e"
            ],
            [
             0.4444444444444444,
             "#bd3786"
            ],
            [
             0.5555555555555556,
             "#d8576b"
            ],
            [
             0.6666666666666666,
             "#ed7953"
            ],
            [
             0.7777777777777778,
             "#fb9f3a"
            ],
            [
             0.8888888888888888,
             "#fdca26"
            ],
            [
             1,
             "#f0f921"
            ]
           ]
          },
          "colorway": [
           "#636efa",
           "#EF553B",
           "#00cc96",
           "#ab63fa",
           "#FFA15A",
           "#19d3f3",
           "#FF6692",
           "#B6E880",
           "#FF97FF",
           "#FECB52"
          ],
          "font": {
           "color": "#2a3f5f"
          },
          "geo": {
           "bgcolor": "white",
           "lakecolor": "white",
           "landcolor": "#E5ECF6",
           "showlakes": true,
           "showland": true,
           "subunitcolor": "white"
          },
          "hoverlabel": {
           "align": "left"
          },
          "hovermode": "closest",
          "mapbox": {
           "style": "light"
          },
          "paper_bgcolor": "white",
          "plot_bgcolor": "#E5ECF6",
          "polar": {
           "angularaxis": {
            "gridcolor": "white",
            "linecolor": "white",
            "ticks": ""
           },
           "bgcolor": "#E5ECF6",
           "radialaxis": {
            "gridcolor": "white",
            "linecolor": "white",
            "ticks": ""
           }
          },
          "scene": {
           "xaxis": {
            "backgroundcolor": "#E5ECF6",
            "gridcolor": "white",
            "gridwidth": 2,
            "linecolor": "white",
            "showbackground": true,
            "ticks": "",
            "zerolinecolor": "white"
           },
           "yaxis": {
            "backgroundcolor": "#E5ECF6",
            "gridcolor": "white",
            "gridwidth": 2,
            "linecolor": "white",
            "showbackground": true,
            "ticks": "",
            "zerolinecolor": "white"
           },
           "zaxis": {
            "backgroundcolor": "#E5ECF6",
            "gridcolor": "white",
            "gridwidth": 2,
            "linecolor": "white",
            "showbackground": true,
            "ticks": "",
            "zerolinecolor": "white"
           }
          },
          "shapedefaults": {
           "line": {
            "color": "#2a3f5f"
           }
          },
          "ternary": {
           "aaxis": {
            "gridcolor": "white",
            "linecolor": "white",
            "ticks": ""
           },
           "baxis": {
            "gridcolor": "white",
            "linecolor": "white",
            "ticks": ""
           },
           "bgcolor": "#E5ECF6",
           "caxis": {
            "gridcolor": "white",
            "linecolor": "white",
            "ticks": ""
           }
          },
          "title": {
           "x": 0.05
          },
          "xaxis": {
           "automargin": true,
           "gridcolor": "white",
           "linecolor": "white",
           "ticks": "",
           "title": {
            "standoff": 15
           },
           "zerolinecolor": "white",
           "zerolinewidth": 2
          },
          "yaxis": {
           "automargin": true,
           "gridcolor": "white",
           "linecolor": "white",
           "ticks": "",
           "title": {
            "standoff": 15
           },
           "zerolinecolor": "white",
           "zerolinewidth": 2
          }
         }
        },
        "title": {
         "text": "Confusion Matrix"
        },
        "width": 1000,
        "xaxis": {
         "anchor": "y",
         "constrain": "domain",
         "domain": [
          0,
          1
         ],
         "scaleanchor": "y",
         "title": {
          "text": "Predicted"
         }
        },
        "yaxis": {
         "anchor": "x",
         "autorange": "reversed",
         "constrain": "domain",
         "domain": [
          0,
          1
         ],
         "title": {
          "text": "True Label"
         }
        }
       }
      }
     },
     "metadata": {},
     "output_type": "display_data"
    }
   ],
   "source": [
    "model.fit(X_train, y_train, epochs=40, batch_size=64, validation_split=0.2)\n",
    "\n",
    "# Evaluate the model for multi-class classification\n",
    "y_proba = model.predict(X_test)\n",
    "y_pred = np.argmax(y_proba.round(2), axis=-1)\n",
    "\n",
    "\n",
    "class_labels = [1, 2, 3, 4, 5]\n",
    "report(y_test, y_pred, class_labels)"
   ]
  },
  {
   "cell_type": "markdown",
   "metadata": {},
   "source": [
    "## Result Analysis\n",
    "\n",
    "Overall, the performances of the model are relatively similar to those obtained with the baseline model. Indeed, the model is still rather efficient in classifying the dominant class and less so for the others. However, we can note a slight improvement in the classification of certain lower classes compared to the basic Gradient Boosting model: classes 1, 3 and 4 (by comparing the F1 score)."
   ]
  },
  {
   "cell_type": "markdown",
   "metadata": {},
   "source": [
    "# RNN implementation on the preprocessed dataset with classes redistribution, oversampling and early stopping"
   ]
  },
  {
   "cell_type": "markdown",
   "metadata": {},
   "source": [
    "In this part, we are going to implement the same model used before with some changes : \n",
    "- class redistribution ('bad','good','very good')\n",
    "- oversampling (by using SMOTE)\n",
    "- early stopping "
   ]
  },
  {
   "cell_type": "code",
   "execution_count": 205,
   "metadata": {},
   "outputs": [],
   "source": [
    "# Load the preprocessed dataset \n",
    "df = pd.read_csv('data/APPLE_iPhone_SE_preprocessed.csv')\n",
    "df.dropna(subset=['Reviews'], inplace=True)"
   ]
  },
  {
   "cell_type": "code",
   "execution_count": 206,
   "metadata": {},
   "outputs": [],
   "source": [
    "# Create a mapping dictionary\n",
    "rating_mapping = {1: 1, 2: 1, 3: 2, 4: 3, 5: 3}\n",
    "df['Sentiment'] = df['Ratings'].map(rating_mapping)\n"
   ]
  },
  {
   "cell_type": "code",
   "execution_count": 207,
   "metadata": {},
   "outputs": [],
   "source": [
    "# Tokenize the text data\n",
    "tokenizer = Tokenizer()\n",
    "tokenizer.fit_on_texts(df[\"Reviews\"])\n",
    "\n",
    "# Calculate max_words\n",
    "max_words = len(tokenizer.word_index) + 1  # Vocabulary size\n",
    "\n",
    "# Convert text data to sequences\n",
    "sequences = tokenizer.texts_to_sequences(df[\"Reviews\"])\n",
    "\n",
    "# Padding sequences \n",
    "max_sequence_length = 58\n",
    "X = pad_sequences(sequences, maxlen=max_sequence_length, padding='post', truncating='post')\n",
    "\n",
    "y = df['Sentiment']\n",
    "\n",
    "# Split the data into training and testing sets\n",
    "X_train, X_test, y_train, y_test = train_test_split(X, y, test_size=0.2, random_state=42)\n",
    "\n",
    "#SMOTE instance\n",
    "smote = SMOTE(random_state=42)\n",
    "\n",
    "#Apply SMOTE oversampling to the training set\n",
    "X_train, y_train = smote.fit_resample(X_train, y_train)"
   ]
  },
  {
   "cell_type": "markdown",
   "metadata": {},
   "source": [
    "Let's define the model with few changes :"
   ]
  },
  {
   "cell_type": "code",
   "execution_count": 208,
   "metadata": {},
   "outputs": [
    {
     "name": "stdout",
     "output_type": "stream",
     "text": [
      "Model: \"sequential_50\"\n",
      "_________________________________________________________________\n",
      " Layer (type)                Output Shape              Param #   \n",
      "=================================================================\n",
      " embedding (Embedding)       (None, 58, 128)           777472    \n",
      "                                                                 \n",
      " rnn1 (SimpleRNN)            (None, 58, 64)            12352     \n",
      "                                                                 \n",
      " rnn2 (SimpleRNN)            (None, 32)                3104      \n",
      "                                                                 \n",
      " output (Dense)              (None, 4)                 132       \n",
      "                                                                 \n",
      "=================================================================\n",
      "Total params: 793060 (3.03 MB)\n",
      "Trainable params: 793060 (3.03 MB)\n",
      "Non-trainable params: 0 (0.00 Byte)\n",
      "_________________________________________________________________\n"
     ]
    }
   ],
   "source": [
    "# Define the RNN model\n",
    "model_2 = Sequential()\n",
    "\n",
    "# Embedding layer to convert text data to dense vectors\n",
    "model_2.add(Embedding(input_dim=max_words, output_dim=128, input_length=max_sequence_length, name='embedding'))\n",
    "\n",
    "# Two SimpleRNN layers with ReLU activation functions\n",
    "model_2.add(SimpleRNN(64, activation='relu', return_sequences=True, name='rnn1'))\n",
    "model_2.add(SimpleRNN(32, activation='relu', name='rnn2'))\n",
    "\n",
    "# Dense layer (output layer) with a softmax activation function for multi-class classification\n",
    "model_2.add(Dense(4, activation='softmax', name='output'))\n",
    "\n",
    "# Compile the model\n",
    "model_2.compile(optimizer=Adam(learning_rate=0.001),  loss='sparse_categorical_crossentropy', metrics=['accuracy'])\n",
    "\n",
    "# Display model summary\n",
    "model_2.summary()"
   ]
  },
  {
   "cell_type": "markdown",
   "metadata": {},
   "source": [
    "Let's train the new model :"
   ]
  },
  {
   "cell_type": "code",
   "execution_count": 209,
   "metadata": {},
   "outputs": [
    {
     "name": "stdout",
     "output_type": "stream",
     "text": [
      "Epoch 1/20\n",
      "254/254 [==============================] - 18s 58ms/step - loss: 1.0758 - accuracy: 0.4089 - val_loss: 1.8388 - val_accuracy: 0.0000e+00\n",
      "Epoch 2/20\n",
      "254/254 [==============================] - 13s 51ms/step - loss: 1.0308 - accuracy: 0.4197 - val_loss: 1.9908 - val_accuracy: 0.0000e+00\n",
      "Epoch 3/20\n",
      "254/254 [==============================] - 14s 55ms/step - loss: 1.0213 - accuracy: 0.4544 - val_loss: 1.9125 - val_accuracy: 0.0000e+00\n",
      "Epoch 4/20\n",
      "254/254 [==============================] - 15s 59ms/step - loss: 0.8557 - accuracy: 0.6440 - val_loss: 1.7769 - val_accuracy: 0.0000e+00\n",
      "Epoch 5/20\n",
      "254/254 [==============================] - 14s 57ms/step - loss: 0.7123 - accuracy: 0.7210 - val_loss: 1.6841 - val_accuracy: 0.0000e+00\n",
      "Epoch 6/20\n",
      "254/254 [==============================] - 14s 55ms/step - loss: 0.6047 - accuracy: 0.7624 - val_loss: 1.7164 - val_accuracy: 0.0199\n",
      "Epoch 7/20\n",
      "254/254 [==============================] - 14s 57ms/step - loss: 0.5099 - accuracy: 0.8054 - val_loss: 1.9642 - val_accuracy: 0.1388\n",
      "Epoch 8/20\n",
      "254/254 [==============================] - 15s 58ms/step - loss: 0.4379 - accuracy: 0.8351 - val_loss: 1.7072 - val_accuracy: 0.1785\n",
      "61/61 [==============================] - 1s 9ms/step\n",
      "              precision    recall  f1-score   support\n",
      "\n",
      "         bad       0.19      0.80      0.30       132\n",
      "        good       0.00      0.00      0.00        80\n",
      "   very good       0.95      0.76      0.85      1730\n",
      "\n",
      "    accuracy                           0.73      1942\n",
      "   macro avg       0.38      0.52      0.38      1942\n",
      "weighted avg       0.86      0.73      0.77      1942\n",
      "\n"
     ]
    },
    {
     "data": {
      "application/vnd.plotly.v1+json": {
       "config": {
        "plotlyServerURL": "https://plot.ly"
       },
       "data": [
        {
         "coloraxis": "coloraxis",
         "hovertemplate": "Predicted: %{x}<br>True Label: %{y}<br>color: %{z}<extra></extra>",
         "name": "0",
         "texttemplate": "%{z}",
         "type": "heatmap",
         "x": [
          "bad",
          "good",
          "very good"
         ],
         "xaxis": "x",
         "y": [
          "bad",
          "good",
          "very good"
         ],
         "yaxis": "y",
         "z": [
          [
           105,
           0,
           27
          ],
          [
           44,
           0,
           36
          ],
          [
           414,
           0,
           1316
          ]
         ]
        }
       ],
       "layout": {
        "coloraxis": {
         "colorscale": [
          [
           0,
           "rgb(247,251,255)"
          ],
          [
           0.125,
           "rgb(222,235,247)"
          ],
          [
           0.25,
           "rgb(198,219,239)"
          ],
          [
           0.375,
           "rgb(158,202,225)"
          ],
          [
           0.5,
           "rgb(107,174,214)"
          ],
          [
           0.625,
           "rgb(66,146,198)"
          ],
          [
           0.75,
           "rgb(33,113,181)"
          ],
          [
           0.875,
           "rgb(8,81,156)"
          ],
          [
           1,
           "rgb(8,48,107)"
          ]
         ]
        },
        "height": 800,
        "template": {
         "data": {
          "bar": [
           {
            "error_x": {
             "color": "#2a3f5f"
            },
            "error_y": {
             "color": "#2a3f5f"
            },
            "marker": {
             "line": {
              "color": "#E5ECF6",
              "width": 0.5
             },
             "pattern": {
              "fillmode": "overlay",
              "size": 10,
              "solidity": 0.2
             }
            },
            "type": "bar"
           }
          ],
          "barpolar": [
           {
            "marker": {
             "line": {
              "color": "#E5ECF6",
              "width": 0.5
             },
             "pattern": {
              "fillmode": "overlay",
              "size": 10,
              "solidity": 0.2
             }
            },
            "type": "barpolar"
           }
          ],
          "carpet": [
           {
            "aaxis": {
             "endlinecolor": "#2a3f5f",
             "gridcolor": "white",
             "linecolor": "white",
             "minorgridcolor": "white",
             "startlinecolor": "#2a3f5f"
            },
            "baxis": {
             "endlinecolor": "#2a3f5f",
             "gridcolor": "white",
             "linecolor": "white",
             "minorgridcolor": "white",
             "startlinecolor": "#2a3f5f"
            },
            "type": "carpet"
           }
          ],
          "choropleth": [
           {
            "colorbar": {
             "outlinewidth": 0,
             "ticks": ""
            },
            "type": "choropleth"
           }
          ],
          "contour": [
           {
            "colorbar": {
             "outlinewidth": 0,
             "ticks": ""
            },
            "colorscale": [
             [
              0,
              "#0d0887"
             ],
             [
              0.1111111111111111,
              "#46039f"
             ],
             [
              0.2222222222222222,
              "#7201a8"
             ],
             [
              0.3333333333333333,
              "#9c179e"
             ],
             [
              0.4444444444444444,
              "#bd3786"
             ],
             [
              0.5555555555555556,
              "#d8576b"
             ],
             [
              0.6666666666666666,
              "#ed7953"
             ],
             [
              0.7777777777777778,
              "#fb9f3a"
             ],
             [
              0.8888888888888888,
              "#fdca26"
             ],
             [
              1,
              "#f0f921"
             ]
            ],
            "type": "contour"
           }
          ],
          "contourcarpet": [
           {
            "colorbar": {
             "outlinewidth": 0,
             "ticks": ""
            },
            "type": "contourcarpet"
           }
          ],
          "heatmap": [
           {
            "colorbar": {
             "outlinewidth": 0,
             "ticks": ""
            },
            "colorscale": [
             [
              0,
              "#0d0887"
             ],
             [
              0.1111111111111111,
              "#46039f"
             ],
             [
              0.2222222222222222,
              "#7201a8"
             ],
             [
              0.3333333333333333,
              "#9c179e"
             ],
             [
              0.4444444444444444,
              "#bd3786"
             ],
             [
              0.5555555555555556,
              "#d8576b"
             ],
             [
              0.6666666666666666,
              "#ed7953"
             ],
             [
              0.7777777777777778,
              "#fb9f3a"
             ],
             [
              0.8888888888888888,
              "#fdca26"
             ],
             [
              1,
              "#f0f921"
             ]
            ],
            "type": "heatmap"
           }
          ],
          "heatmapgl": [
           {
            "colorbar": {
             "outlinewidth": 0,
             "ticks": ""
            },
            "colorscale": [
             [
              0,
              "#0d0887"
             ],
             [
              0.1111111111111111,
              "#46039f"
             ],
             [
              0.2222222222222222,
              "#7201a8"
             ],
             [
              0.3333333333333333,
              "#9c179e"
             ],
             [
              0.4444444444444444,
              "#bd3786"
             ],
             [
              0.5555555555555556,
              "#d8576b"
             ],
             [
              0.6666666666666666,
              "#ed7953"
             ],
             [
              0.7777777777777778,
              "#fb9f3a"
             ],
             [
              0.8888888888888888,
              "#fdca26"
             ],
             [
              1,
              "#f0f921"
             ]
            ],
            "type": "heatmapgl"
           }
          ],
          "histogram": [
           {
            "marker": {
             "pattern": {
              "fillmode": "overlay",
              "size": 10,
              "solidity": 0.2
             }
            },
            "type": "histogram"
           }
          ],
          "histogram2d": [
           {
            "colorbar": {
             "outlinewidth": 0,
             "ticks": ""
            },
            "colorscale": [
             [
              0,
              "#0d0887"
             ],
             [
              0.1111111111111111,
              "#46039f"
             ],
             [
              0.2222222222222222,
              "#7201a8"
             ],
             [
              0.3333333333333333,
              "#9c179e"
             ],
             [
              0.4444444444444444,
              "#bd3786"
             ],
             [
              0.5555555555555556,
              "#d8576b"
             ],
             [
              0.6666666666666666,
              "#ed7953"
             ],
             [
              0.7777777777777778,
              "#fb9f3a"
             ],
             [
              0.8888888888888888,
              "#fdca26"
             ],
             [
              1,
              "#f0f921"
             ]
            ],
            "type": "histogram2d"
           }
          ],
          "histogram2dcontour": [
           {
            "colorbar": {
             "outlinewidth": 0,
             "ticks": ""
            },
            "colorscale": [
             [
              0,
              "#0d0887"
             ],
             [
              0.1111111111111111,
              "#46039f"
             ],
             [
              0.2222222222222222,
              "#7201a8"
             ],
             [
              0.3333333333333333,
              "#9c179e"
             ],
             [
              0.4444444444444444,
              "#bd3786"
             ],
             [
              0.5555555555555556,
              "#d8576b"
             ],
             [
              0.6666666666666666,
              "#ed7953"
             ],
             [
              0.7777777777777778,
              "#fb9f3a"
             ],
             [
              0.8888888888888888,
              "#fdca26"
             ],
             [
              1,
              "#f0f921"
             ]
            ],
            "type": "histogram2dcontour"
           }
          ],
          "mesh3d": [
           {
            "colorbar": {
             "outlinewidth": 0,
             "ticks": ""
            },
            "type": "mesh3d"
           }
          ],
          "parcoords": [
           {
            "line": {
             "colorbar": {
              "outlinewidth": 0,
              "ticks": ""
             }
            },
            "type": "parcoords"
           }
          ],
          "pie": [
           {
            "automargin": true,
            "type": "pie"
           }
          ],
          "scatter": [
           {
            "fillpattern": {
             "fillmode": "overlay",
             "size": 10,
             "solidity": 0.2
            },
            "type": "scatter"
           }
          ],
          "scatter3d": [
           {
            "line": {
             "colorbar": {
              "outlinewidth": 0,
              "ticks": ""
             }
            },
            "marker": {
             "colorbar": {
              "outlinewidth": 0,
              "ticks": ""
             }
            },
            "type": "scatter3d"
           }
          ],
          "scattercarpet": [
           {
            "marker": {
             "colorbar": {
              "outlinewidth": 0,
              "ticks": ""
             }
            },
            "type": "scattercarpet"
           }
          ],
          "scattergeo": [
           {
            "marker": {
             "colorbar": {
              "outlinewidth": 0,
              "ticks": ""
             }
            },
            "type": "scattergeo"
           }
          ],
          "scattergl": [
           {
            "marker": {
             "colorbar": {
              "outlinewidth": 0,
              "ticks": ""
             }
            },
            "type": "scattergl"
           }
          ],
          "scattermapbox": [
           {
            "marker": {
             "colorbar": {
              "outlinewidth": 0,
              "ticks": ""
             }
            },
            "type": "scattermapbox"
           }
          ],
          "scatterpolar": [
           {
            "marker": {
             "colorbar": {
              "outlinewidth": 0,
              "ticks": ""
             }
            },
            "type": "scatterpolar"
           }
          ],
          "scatterpolargl": [
           {
            "marker": {
             "colorbar": {
              "outlinewidth": 0,
              "ticks": ""
             }
            },
            "type": "scatterpolargl"
           }
          ],
          "scatterternary": [
           {
            "marker": {
             "colorbar": {
              "outlinewidth": 0,
              "ticks": ""
             }
            },
            "type": "scatterternary"
           }
          ],
          "surface": [
           {
            "colorbar": {
             "outlinewidth": 0,
             "ticks": ""
            },
            "colorscale": [
             [
              0,
              "#0d0887"
             ],
             [
              0.1111111111111111,
              "#46039f"
             ],
             [
              0.2222222222222222,
              "#7201a8"
             ],
             [
              0.3333333333333333,
              "#9c179e"
             ],
             [
              0.4444444444444444,
              "#bd3786"
             ],
             [
              0.5555555555555556,
              "#d8576b"
             ],
             [
              0.6666666666666666,
              "#ed7953"
             ],
             [
              0.7777777777777778,
              "#fb9f3a"
             ],
             [
              0.8888888888888888,
              "#fdca26"
             ],
             [
              1,
              "#f0f921"
             ]
            ],
            "type": "surface"
           }
          ],
          "table": [
           {
            "cells": {
             "fill": {
              "color": "#EBF0F8"
             },
             "line": {
              "color": "white"
             }
            },
            "header": {
             "fill": {
              "color": "#C8D4E3"
             },
             "line": {
              "color": "white"
             }
            },
            "type": "table"
           }
          ]
         },
         "layout": {
          "annotationdefaults": {
           "arrowcolor": "#2a3f5f",
           "arrowhead": 0,
           "arrowwidth": 1
          },
          "autotypenumbers": "strict",
          "coloraxis": {
           "colorbar": {
            "outlinewidth": 0,
            "ticks": ""
           }
          },
          "colorscale": {
           "diverging": [
            [
             0,
             "#8e0152"
            ],
            [
             0.1,
             "#c51b7d"
            ],
            [
             0.2,
             "#de77ae"
            ],
            [
             0.3,
             "#f1b6da"
            ],
            [
             0.4,
             "#fde0ef"
            ],
            [
             0.5,
             "#f7f7f7"
            ],
            [
             0.6,
             "#e6f5d0"
            ],
            [
             0.7,
             "#b8e186"
            ],
            [
             0.8,
             "#7fbc41"
            ],
            [
             0.9,
             "#4d9221"
            ],
            [
             1,
             "#276419"
            ]
           ],
           "sequential": [
            [
             0,
             "#0d0887"
            ],
            [
             0.1111111111111111,
             "#46039f"
            ],
            [
             0.2222222222222222,
             "#7201a8"
            ],
            [
             0.3333333333333333,
             "#9c179e"
            ],
            [
             0.4444444444444444,
             "#bd3786"
            ],
            [
             0.5555555555555556,
             "#d8576b"
            ],
            [
             0.6666666666666666,
             "#ed7953"
            ],
            [
             0.7777777777777778,
             "#fb9f3a"
            ],
            [
             0.8888888888888888,
             "#fdca26"
            ],
            [
             1,
             "#f0f921"
            ]
           ],
           "sequentialminus": [
            [
             0,
             "#0d0887"
            ],
            [
             0.1111111111111111,
             "#46039f"
            ],
            [
             0.2222222222222222,
             "#7201a8"
            ],
            [
             0.3333333333333333,
             "#9c179e"
            ],
            [
             0.4444444444444444,
             "#bd3786"
            ],
            [
             0.5555555555555556,
             "#d8576b"
            ],
            [
             0.6666666666666666,
             "#ed7953"
            ],
            [
             0.7777777777777778,
             "#fb9f3a"
            ],
            [
             0.8888888888888888,
             "#fdca26"
            ],
            [
             1,
             "#f0f921"
            ]
           ]
          },
          "colorway": [
           "#636efa",
           "#EF553B",
           "#00cc96",
           "#ab63fa",
           "#FFA15A",
           "#19d3f3",
           "#FF6692",
           "#B6E880",
           "#FF97FF",
           "#FECB52"
          ],
          "font": {
           "color": "#2a3f5f"
          },
          "geo": {
           "bgcolor": "white",
           "lakecolor": "white",
           "landcolor": "#E5ECF6",
           "showlakes": true,
           "showland": true,
           "subunitcolor": "white"
          },
          "hoverlabel": {
           "align": "left"
          },
          "hovermode": "closest",
          "mapbox": {
           "style": "light"
          },
          "paper_bgcolor": "white",
          "plot_bgcolor": "#E5ECF6",
          "polar": {
           "angularaxis": {
            "gridcolor": "white",
            "linecolor": "white",
            "ticks": ""
           },
           "bgcolor": "#E5ECF6",
           "radialaxis": {
            "gridcolor": "white",
            "linecolor": "white",
            "ticks": ""
           }
          },
          "scene": {
           "xaxis": {
            "backgroundcolor": "#E5ECF6",
            "gridcolor": "white",
            "gridwidth": 2,
            "linecolor": "white",
            "showbackground": true,
            "ticks": "",
            "zerolinecolor": "white"
           },
           "yaxis": {
            "backgroundcolor": "#E5ECF6",
            "gridcolor": "white",
            "gridwidth": 2,
            "linecolor": "white",
            "showbackground": true,
            "ticks": "",
            "zerolinecolor": "white"
           },
           "zaxis": {
            "backgroundcolor": "#E5ECF6",
            "gridcolor": "white",
            "gridwidth": 2,
            "linecolor": "white",
            "showbackground": true,
            "ticks": "",
            "zerolinecolor": "white"
           }
          },
          "shapedefaults": {
           "line": {
            "color": "#2a3f5f"
           }
          },
          "ternary": {
           "aaxis": {
            "gridcolor": "white",
            "linecolor": "white",
            "ticks": ""
           },
           "baxis": {
            "gridcolor": "white",
            "linecolor": "white",
            "ticks": ""
           },
           "bgcolor": "#E5ECF6",
           "caxis": {
            "gridcolor": "white",
            "linecolor": "white",
            "ticks": ""
           }
          },
          "title": {
           "x": 0.05
          },
          "xaxis": {
           "automargin": true,
           "gridcolor": "white",
           "linecolor": "white",
           "ticks": "",
           "title": {
            "standoff": 15
           },
           "zerolinecolor": "white",
           "zerolinewidth": 2
          },
          "yaxis": {
           "automargin": true,
           "gridcolor": "white",
           "linecolor": "white",
           "ticks": "",
           "title": {
            "standoff": 15
           },
           "zerolinecolor": "white",
           "zerolinewidth": 2
          }
         }
        },
        "title": {
         "text": "Confusion Matrix"
        },
        "width": 1000,
        "xaxis": {
         "anchor": "y",
         "constrain": "domain",
         "domain": [
          0,
          1
         ],
         "scaleanchor": "y",
         "title": {
          "text": "Predicted"
         }
        },
        "yaxis": {
         "anchor": "x",
         "autorange": "reversed",
         "constrain": "domain",
         "domain": [
          0,
          1
         ],
         "title": {
          "text": "True Label"
         }
        }
       }
      }
     },
     "metadata": {},
     "output_type": "display_data"
    }
   ],
   "source": [
    "# EarlyStopping Callback\n",
    "early_stopping = EarlyStopping(monitor='val_loss', patience=3, restore_best_weights=True)\n",
    "\n",
    "model_2.fit(X_train, y_train, epochs=20, batch_size=64, validation_split=0.2, callbacks=[early_stopping])\n",
    "\n",
    "# Define a mapping dictionary\n",
    "label_mapping = {1: 'bad', 2: 'good', 3: 'very good'}\n",
    "\n",
    "# Evaluate the model for multi-class classification\n",
    "y_proba = model_2.predict(X_test)\n",
    "y_pred = np.argmax(y_proba.round(2), axis=-1)\n",
    "\n",
    "# Map integer labels to string labels for y_pred and y_test\n",
    "y_pred = [label_mapping[label] for label in y_pred]\n",
    "y_test = [label_mapping[label] for label in y_test]\n",
    "\n",
    "class_labels = ['bad', 'good', 'very good']\n",
    "\n",
    "report(y_test, y_pred, class_labels)\n",
    "\n"
   ]
  },
  {
   "cell_type": "markdown",
   "metadata": {},
   "source": [
    "# Result Analysis"
   ]
  },
  {
   "cell_type": "markdown",
   "metadata": {},
   "source": [
    "We can see that the overall performance of the model has improved with a score of 73% but this is explained by the large quantity of 'very good' classes. With this method we have eliminated the confusion between classes 4 and 5 but we have reinforced the imbalance. In fact, we face the same limit that we observed with the baseline model.\n",
    "Thus, using different optimization techniques (SMOTE, oversampling..) and a deep learning model more complex than the models used before did not allow us to sufficiently overcome the imabalance of the dataset and the limits generated."
   ]
  }
 ],
 "metadata": {
  "kernelspec": {
   "display_name": "Python 3",
   "language": "python",
   "name": "python3"
  },
  "language_info": {
   "codemirror_mode": {
    "name": "ipython",
    "version": 3
   },
   "file_extension": ".py",
   "mimetype": "text/x-python",
   "name": "python",
   "nbconvert_exporter": "python",
   "pygments_lexer": "ipython3",
   "version": "3.11.0"
  }
 },
 "nbformat": 4,
 "nbformat_minor": 2
}
